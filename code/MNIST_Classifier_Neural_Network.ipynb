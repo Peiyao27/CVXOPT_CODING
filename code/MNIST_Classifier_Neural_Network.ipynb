{
  "nbformat": 4,
  "nbformat_minor": 0,
  "metadata": {
    "colab": {
      "name": "MNIST_Classifier_Neural_Network.ipynb",
      "provenance": [],
      "collapsed_sections": []
    },
    "kernelspec": {
      "name": "python3",
      "display_name": "Python 3"
    }
  },
  "cells": [
    {
      "cell_type": "code",
      "metadata": {
        "id": "PNjflSL-2up6"
      },
      "source": [
        ""
      ],
      "execution_count": null,
      "outputs": []
    },
    {
      "cell_type": "markdown",
      "metadata": {
        "id": "5t0Mhe26xGKl"
      },
      "source": [
        "The code in this demo is from https://nextjournal.com/gkoehler/pytorch-mnist"
      ]
    },
    {
      "cell_type": "code",
      "metadata": {
        "id": "Rr_7dQJOjJW8"
      },
      "source": [
        "import torch\n",
        "import torchvision"
      ],
      "execution_count": null,
      "outputs": []
    },
    {
      "cell_type": "markdown",
      "metadata": {
        "id": "t4PjZFa6xwhW"
      },
      "source": [
        "Preparing the dataset"
      ]
    },
    {
      "cell_type": "code",
      "metadata": {
        "id": "BKbvTc3OjNNS",
        "outputId": "8d9dcde4-eddc-4c45-fc0d-7c889824dc99",
        "colab": {
          "base_uri": "https://localhost:8080/"
        }
      },
      "source": [
        "n_epochs = 3\n",
        "batch_size_train = 64\n",
        "batch_size_test = 1000\n",
        "#learning_rate = 0.01\n",
        "#momentum = 0.5\n",
        "log_interval = 10\n",
        "\n",
        "random_seed = 1\n",
        "torch.backends.cudnn.enabled = False\n",
        "torch.manual_seed(random_seed)"
      ],
      "execution_count": null,
      "outputs": [
        {
          "output_type": "execute_result",
          "data": {
            "text/plain": [
              "<torch._C.Generator at 0x7f1f576ac5a0>"
            ]
          },
          "metadata": {
            "tags": []
          },
          "execution_count": 2
        }
      ]
    },
    {
      "cell_type": "code",
      "metadata": {
        "id": "B-R09Dt4jNW0"
      },
      "source": [
        "train_loader = torch.utils.data.DataLoader(\n",
        "  torchvision.datasets.MNIST('/files/', train=True, download=True,\n",
        "                             transform=torchvision.transforms.Compose([\n",
        "                               torchvision.transforms.ToTensor(),\n",
        "                               torchvision.transforms.Normalize(\n",
        "                                 (0.1307,), (0.3081,))\n",
        "                             ])),\n",
        "  batch_size=batch_size_train, shuffle=True)\n",
        "\n",
        "test_loader = torch.utils.data.DataLoader(\n",
        "  torchvision.datasets.MNIST('/files/', train=False, download=True,\n",
        "                             transform=torchvision.transforms.Compose([\n",
        "                               torchvision.transforms.ToTensor(),\n",
        "                               torchvision.transforms.Normalize(\n",
        "                                 (0.1307,), (0.3081,))\n",
        "                             ])),\n",
        "  batch_size=batch_size_test, shuffle=True)"
      ],
      "execution_count": null,
      "outputs": []
    },
    {
      "cell_type": "code",
      "metadata": {
        "id": "v0EMz5O4jNfd"
      },
      "source": [
        "examples = enumerate(test_loader)\n",
        "batch_idx, (example_data, example_targets) = next(examples)"
      ],
      "execution_count": null,
      "outputs": []
    },
    {
      "cell_type": "code",
      "metadata": {
        "id": "w4wNJPWnjNny",
        "outputId": "f122068d-96c0-403a-8ed1-25f55b5b706f",
        "colab": {
          "base_uri": "https://localhost:8080/"
        }
      },
      "source": [
        "example_data.shape"
      ],
      "execution_count": null,
      "outputs": [
        {
          "output_type": "execute_result",
          "data": {
            "text/plain": [
              "torch.Size([1000, 1, 28, 28])"
            ]
          },
          "metadata": {
            "tags": []
          },
          "execution_count": 5
        }
      ]
    },
    {
      "cell_type": "code",
      "metadata": {
        "id": "PoTW2aG5jaPE",
        "outputId": "8b6ed8bd-eafe-4965-9047-2c888bbdb61b",
        "colab": {
          "base_uri": "https://localhost:8080/",
          "height": 551
        }
      },
      "source": [
        "import matplotlib.pyplot as plt\n",
        "\n",
        "fig = plt.figure()\n",
        "for i in range(6):\n",
        "  plt.subplot(2,3,i+1)\n",
        "  plt.tight_layout()\n",
        "  plt.imshow(example_data[i][0], cmap='gray', interpolation='none')\n",
        "  plt.title(\"Ground Truth: {}\".format(example_targets[i]))\n",
        "  plt.xticks([])\n",
        "  plt.yticks([])\n",
        "fig"
      ],
      "execution_count": null,
      "outputs": [
        {
          "output_type": "execute_result",
          "data": {
            "image/png": "[encoded data removed]",
            "text/plain": [
              "<Figure size 432x288 with 6 Axes>"
            ]
          },
          "metadata": {
            "tags": []
          },
          "execution_count": 6
        },
        {
          "output_type": "display_data",
          "data": {
            "image/png": "[encoded data removed]",
            "text/plain": [
              "<Figure size 432x288 with 6 Axes>"
            ]
          },
          "metadata": {
            "tags": []
          }
        }
      ]
    },
    {
      "cell_type": "markdown",
      "metadata": {
        "id": "Tcm_ZG5Px34p"
      },
      "source": [
        "Building the neural network"
      ]
    },
    {
      "cell_type": "code",
      "metadata": {
        "id": "6mGfyQtwjuZC"
      },
      "source": [
        "import torch.nn as nn\n",
        "import torch.nn.functional as F\n",
        "import torch.optim as optim"
      ],
      "execution_count": null,
      "outputs": []
    },
    {
      "cell_type": "code",
      "metadata": {
        "id": "5kDJ-186jyKY"
      },
      "source": [
        "class Net(nn.Module):\n",
        "    def __init__(self):\n",
        "        super(Net, self).__init__()\n",
        "        self.conv1 = nn.Conv2d(1, 10, kernel_size=5)\n",
        "        self.conv2 = nn.Conv2d(10, 20, kernel_size=5)\n",
        "        self.conv2_drop = nn.Dropout2d()\n",
        "        self.fc1 = nn.Linear(320, 50)\n",
        "        self.fc2 = nn.Linear(50, 10)\n",
        "\n",
        "    def forward(self, x):\n",
        "        x = F.relu(F.max_pool2d(self.conv1(x), 2))\n",
        "        x = F.relu(F.max_pool2d(self.conv2_drop(self.conv2(x)), 2))\n",
        "        x = x.view(-1, 320)\n",
        "        x = F.relu(self.fc1(x))\n",
        "        x = F.dropout(x, training=self.training)\n",
        "        x = self.fc2(x)\n",
        "        return F.log_softmax(x)"
      ],
      "execution_count": null,
      "outputs": []
    },
    {
      "cell_type": "code",
      "metadata": {
        "id": "RMPvj54xj0m9"
      },
      "source": [
        "network = Net()\n",
        "optimizer = optim.SGD(network.parameters(), lr=0.01, momentum=0.5)\n",
        "optimizer = optim.Adam(network.parameters(), lr=0.0001)"
      ],
      "execution_count": null,
      "outputs": []
    },
    {
      "cell_type": "code",
      "metadata": {
        "id": "JO04PoaPj2ii"
      },
      "source": [
        "train_losses = []\n",
        "train_counter = []\n",
        "test_losses = []\n",
        "test_counter = [i*len(train_loader.dataset) for i in range(n_epochs + 1)]"
      ],
      "execution_count": null,
      "outputs": []
    },
    {
      "cell_type": "code",
      "metadata": {
        "id": "PL3xY3nWj6aw"
      },
      "source": [
        "def train(epoch):\n",
        "  network.train()\n",
        "  for batch_idx, (data, target) in enumerate(train_loader):\n",
        "    optimizer.zero_grad()\n",
        "    output = network(data)\n",
        "    loss = F.nll_loss(output, target)\n",
        "    loss.backward()\n",
        "    optimizer.step()\n",
        "    if batch_idx % log_interval == 0:\n",
        "      print('Train Epoch: {} [{}/{} ({:.0f}%)]\\tLoss: {:.6f}'.format(\n",
        "        epoch, batch_idx * len(data), len(train_loader.dataset),\n",
        "        100. * batch_idx / len(train_loader), loss.item()))\n",
        "      train_losses.append(loss.item())\n",
        "      train_counter.append(\n",
        "        (batch_idx*64) + ((epoch-1)*len(train_loader.dataset)))\n",
        "      #torch.save(network.state_dict(), '/results/model.pth')\n",
        "      #torch.save(optimizer.state_dict(), '/results/optimizer.pth')"
      ],
      "execution_count": null,
      "outputs": []
    },
    {
      "cell_type": "code",
      "metadata": {
        "id": "dS0pYDVUj9Pr"
      },
      "source": [
        "def test():\n",
        "  network.eval()\n",
        "  test_loss = 0\n",
        "  correct = 0\n",
        "  with torch.no_grad():\n",
        "    for data, target in test_loader:\n",
        "      output = network(data)\n",
        "      test_loss += F.nll_loss(output, target, size_average=False).item()\n",
        "      pred = output.data.max(1, keepdim=True)[1]\n",
        "      correct += pred.eq(target.data.view_as(pred)).sum()\n",
        "  test_loss /= len(test_loader.dataset)\n",
        "  test_losses.append(test_loss)\n",
        "  print('\\nTest set: Avg. loss: {:.4f}, Accuracy: {}/{} ({:.0f}%)\\n'.format(\n",
        "    test_loss, correct, len(test_loader.dataset),\n",
        "    100. * correct / len(test_loader.dataset)))"
      ],
      "execution_count": null,
      "outputs": []
    },
    {
      "cell_type": "markdown",
      "metadata": {
        "id": "Z_me9Bk-xpOO"
      },
      "source": [
        "Training the model"
      ]
    },
    {
      "cell_type": "code",
      "metadata": {
        "id": "CRpvswW8j_h7",
        "outputId": "87b5c2d9-4e0b-4bcc-bebb-02e2feb40ad7",
        "colab": {
          "base_uri": "https://localhost:8080/"
        }
      },
      "source": [
        "train_counter =[]\n",
        "test_counter\n",
        "train_losses=[]\n",
        "test_losses=[]\n",
        "test()\n",
        "for epoch in range(1, n_epochs + 1):\n",
        "  train(epoch)\n",
        "  test()"
      ],
      "execution_count": null,
      "outputs": [
        {
          "output_type": "stream",
          "text": [
            "/usr/local/lib/python3.6/dist-packages/ipykernel_launcher.py:17: UserWarning: Implicit dimension choice for log_softmax has been deprecated. Change the call to include dim=X as an argument.\n",
            "/usr/local/lib/python3.6/dist-packages/torch/nn/_reduction.py:44: UserWarning: size_average and reduce args will be deprecated, please use reduction='sum' instead.\n",
            "  warnings.warn(warning.format(ret))\n"
          ],
          "name": "stderr"
        },
        {
          "output_type": "stream",
          "text": [
            "\n",
            "Test set: Avg. loss: 2.3004, Accuracy: 751/10000 (8%)\n",
            "\n",
            "Train Epoch: 1 [0/60000 (0%)]\tLoss: 2.268458\n",
            "Train Epoch: 1 [640/60000 (1%)]\tLoss: 2.283369\n",
            "Train Epoch: 1 [1280/60000 (2%)]\tLoss: 2.283530\n",
            "Train Epoch: 1 [1920/60000 (3%)]\tLoss: 2.281191\n",
            "Train Epoch: 1 [2560/60000 (4%)]\tLoss: 2.286008\n",
            "Train Epoch: 1 [3200/60000 (5%)]\tLoss: 2.290482\n",
            "Train Epoch: 1 [3840/60000 (6%)]\tLoss: 2.263014\n",
            "Train Epoch: 1 [4480/60000 (7%)]\tLoss: 2.238137\n",
            "Train Epoch: 1 [5120/60000 (9%)]\tLoss: 2.206475\n",
            "Train Epoch: 1 [5760/60000 (10%)]\tLoss: 2.202100\n",
            "Train Epoch: 1 [6400/60000 (11%)]\tLoss: 2.192201\n",
            "Train Epoch: 1 [7040/60000 (12%)]\tLoss: 2.171154\n",
            "Train Epoch: 1 [7680/60000 (13%)]\tLoss: 2.131511\n",
            "Train Epoch: 1 [8320/60000 (14%)]\tLoss: 2.158840\n",
            "Train Epoch: 1 [8960/60000 (15%)]\tLoss: 2.162922\n",
            "Train Epoch: 1 [9600/60000 (16%)]\tLoss: 2.078124\n",
            "Train Epoch: 1 [10240/60000 (17%)]\tLoss: 1.999902\n",
            "Train Epoch: 1 [10880/60000 (18%)]\tLoss: 2.054408\n",
            "Train Epoch: 1 [11520/60000 (19%)]\tLoss: 1.977790\n",
            "Train Epoch: 1 [12160/60000 (20%)]\tLoss: 1.958629\n",
            "Train Epoch: 1 [12800/60000 (21%)]\tLoss: 1.799726\n",
            "Train Epoch: 1 [13440/60000 (22%)]\tLoss: 1.963482\n",
            "Train Epoch: 1 [14080/60000 (23%)]\tLoss: 1.755100\n",
            "Train Epoch: 1 [14720/60000 (25%)]\tLoss: 1.766944\n",
            "Train Epoch: 1 [15360/60000 (26%)]\tLoss: 1.771711\n",
            "Train Epoch: 1 [16000/60000 (27%)]\tLoss: 1.731937\n",
            "Train Epoch: 1 [16640/60000 (28%)]\tLoss: 1.611058\n",
            "Train Epoch: 1 [17280/60000 (29%)]\tLoss: 1.590613\n",
            "Train Epoch: 1 [17920/60000 (30%)]\tLoss: 1.782006\n",
            "Train Epoch: 1 [18560/60000 (31%)]\tLoss: 1.416762\n",
            "Train Epoch: 1 [19200/60000 (32%)]\tLoss: 1.498776\n",
            "Train Epoch: 1 [19840/60000 (33%)]\tLoss: 1.451278\n",
            "Train Epoch: 1 [20480/60000 (34%)]\tLoss: 1.444767\n",
            "Train Epoch: 1 [21120/60000 (35%)]\tLoss: 1.544223\n",
            "Train Epoch: 1 [21760/60000 (36%)]\tLoss: 1.493644\n",
            "Train Epoch: 1 [22400/60000 (37%)]\tLoss: 1.391313\n",
            "Train Epoch: 1 [23040/60000 (38%)]\tLoss: 1.351324\n",
            "Train Epoch: 1 [23680/60000 (39%)]\tLoss: 1.360561\n",
            "Train Epoch: 1 [24320/60000 (41%)]\tLoss: 1.386651\n",
            "Train Epoch: 1 [24960/60000 (42%)]\tLoss: 1.478345\n",
            "Train Epoch: 1 [25600/60000 (43%)]\tLoss: 1.142872\n",
            "Train Epoch: 1 [26240/60000 (44%)]\tLoss: 1.313865\n",
            "Train Epoch: 1 [26880/60000 (45%)]\tLoss: 1.291220\n",
            "Train Epoch: 1 [27520/60000 (46%)]\tLoss: 1.240725\n",
            "Train Epoch: 1 [28160/60000 (47%)]\tLoss: 1.307050\n",
            "Train Epoch: 1 [28800/60000 (48%)]\tLoss: 1.126043\n",
            "Train Epoch: 1 [29440/60000 (49%)]\tLoss: 0.993092\n",
            "Train Epoch: 1 [30080/60000 (50%)]\tLoss: 1.370543\n",
            "Train Epoch: 1 [30720/60000 (51%)]\tLoss: 1.086677\n",
            "Train Epoch: 1 [31360/60000 (52%)]\tLoss: 1.382343\n",
            "Train Epoch: 1 [32000/60000 (53%)]\tLoss: 1.087612\n",
            "Train Epoch: 1 [32640/60000 (54%)]\tLoss: 1.127568\n",
            "Train Epoch: 1 [33280/60000 (55%)]\tLoss: 0.917466\n",
            "Train Epoch: 1 [33920/60000 (57%)]\tLoss: 0.915801\n",
            "Train Epoch: 1 [34560/60000 (58%)]\tLoss: 1.146485\n",
            "Train Epoch: 1 [35200/60000 (59%)]\tLoss: 0.927531\n",
            "Train Epoch: 1 [35840/60000 (60%)]\tLoss: 1.137171\n",
            "Train Epoch: 1 [36480/60000 (61%)]\tLoss: 0.687236\n",
            "Train Epoch: 1 [37120/60000 (62%)]\tLoss: 0.902855\n",
            "Train Epoch: 1 [37760/60000 (63%)]\tLoss: 0.969807\n",
            "Train Epoch: 1 [38400/60000 (64%)]\tLoss: 1.136124\n",
            "Train Epoch: 1 [39040/60000 (65%)]\tLoss: 0.801969\n",
            "Train Epoch: 1 [39680/60000 (66%)]\tLoss: 0.800203\n",
            "Train Epoch: 1 [40320/60000 (67%)]\tLoss: 0.932356\n",
            "Train Epoch: 1 [40960/60000 (68%)]\tLoss: 0.784444\n",
            "Train Epoch: 1 [41600/60000 (69%)]\tLoss: 0.752706\n",
            "Train Epoch: 1 [42240/60000 (70%)]\tLoss: 0.939564\n",
            "Train Epoch: 1 [42880/60000 (71%)]\tLoss: 0.945758\n",
            "Train Epoch: 1 [43520/60000 (72%)]\tLoss: 0.906919\n",
            "Train Epoch: 1 [44160/60000 (74%)]\tLoss: 0.920361\n",
            "Train Epoch: 1 [44800/60000 (75%)]\tLoss: 0.865656\n",
            "Train Epoch: 1 [45440/60000 (76%)]\tLoss: 0.932788\n",
            "Train Epoch: 1 [46080/60000 (77%)]\tLoss: 0.985193\n",
            "Train Epoch: 1 [46720/60000 (78%)]\tLoss: 1.073866\n",
            "Train Epoch: 1 [47360/60000 (79%)]\tLoss: 0.766878\n",
            "Train Epoch: 1 [48000/60000 (80%)]\tLoss: 0.840807\n",
            "Train Epoch: 1 [48640/60000 (81%)]\tLoss: 0.826397\n",
            "Train Epoch: 1 [49280/60000 (82%)]\tLoss: 1.004890\n",
            "Train Epoch: 1 [49920/60000 (83%)]\tLoss: 0.841127\n",
            "Train Epoch: 1 [50560/60000 (84%)]\tLoss: 0.670914\n",
            "Train Epoch: 1 [51200/60000 (85%)]\tLoss: 1.057778\n",
            "Train Epoch: 1 [51840/60000 (86%)]\tLoss: 0.732229\n",
            "Train Epoch: 1 [52480/60000 (87%)]\tLoss: 0.786659\n",
            "Train Epoch: 1 [53120/60000 (88%)]\tLoss: 0.982316\n",
            "Train Epoch: 1 [53760/60000 (90%)]\tLoss: 0.852489\n",
            "Train Epoch: 1 [54400/60000 (91%)]\tLoss: 0.746363\n",
            "Train Epoch: 1 [55040/60000 (92%)]\tLoss: 0.956569\n",
            "Train Epoch: 1 [55680/60000 (93%)]\tLoss: 0.731927\n",
            "Train Epoch: 1 [56320/60000 (94%)]\tLoss: 0.723488\n",
            "Train Epoch: 1 [56960/60000 (95%)]\tLoss: 0.969452\n",
            "Train Epoch: 1 [57600/60000 (96%)]\tLoss: 0.702032\n",
            "Train Epoch: 1 [58240/60000 (97%)]\tLoss: 0.769453\n",
            "Train Epoch: 1 [58880/60000 (98%)]\tLoss: 0.856076\n",
            "Train Epoch: 1 [59520/60000 (99%)]\tLoss: 0.573097\n",
            "\n",
            "Test set: Avg. loss: 0.3914, Accuracy: 9014/10000 (90%)\n",
            "\n",
            "Train Epoch: 2 [0/60000 (0%)]\tLoss: 0.942811\n",
            "Train Epoch: 2 [640/60000 (1%)]\tLoss: 0.578944\n",
            "Train Epoch: 2 [1280/60000 (2%)]\tLoss: 0.612089\n",
            "Train Epoch: 2 [1920/60000 (3%)]\tLoss: 0.531109\n",
            "Train Epoch: 2 [2560/60000 (4%)]\tLoss: 0.730833\n",
            "Train Epoch: 2 [3200/60000 (5%)]\tLoss: 0.722266\n",
            "Train Epoch: 2 [3840/60000 (6%)]\tLoss: 0.795996\n",
            "Train Epoch: 2 [4480/60000 (7%)]\tLoss: 0.784274\n",
            "Train Epoch: 2 [5120/60000 (9%)]\tLoss: 0.666928\n",
            "Train Epoch: 2 [5760/60000 (10%)]\tLoss: 0.625887\n",
            "Train Epoch: 2 [6400/60000 (11%)]\tLoss: 0.873747\n",
            "Train Epoch: 2 [7040/60000 (12%)]\tLoss: 0.681929\n",
            "Train Epoch: 2 [7680/60000 (13%)]\tLoss: 0.662087\n",
            "Train Epoch: 2 [8320/60000 (14%)]\tLoss: 0.532077\n",
            "Train Epoch: 2 [8960/60000 (15%)]\tLoss: 0.654256\n",
            "Train Epoch: 2 [9600/60000 (16%)]\tLoss: 0.637187\n",
            "Train Epoch: 2 [10240/60000 (17%)]\tLoss: 0.670543\n",
            "Train Epoch: 2 [10880/60000 (18%)]\tLoss: 0.691185\n",
            "Train Epoch: 2 [11520/60000 (19%)]\tLoss: 0.955747\n",
            "Train Epoch: 2 [12160/60000 (20%)]\tLoss: 0.880109\n",
            "Train Epoch: 2 [12800/60000 (21%)]\tLoss: 0.504921\n",
            "Train Epoch: 2 [13440/60000 (22%)]\tLoss: 0.738992\n",
            "Train Epoch: 2 [14080/60000 (23%)]\tLoss: 0.616872\n",
            "Train Epoch: 2 [14720/60000 (25%)]\tLoss: 0.625602\n",
            "Train Epoch: 2 [15360/60000 (26%)]\tLoss: 0.692944\n",
            "Train Epoch: 2 [16000/60000 (27%)]\tLoss: 0.627834\n",
            "Train Epoch: 2 [16640/60000 (28%)]\tLoss: 0.654375\n",
            "Train Epoch: 2 [17280/60000 (29%)]\tLoss: 0.605740\n",
            "Train Epoch: 2 [17920/60000 (30%)]\tLoss: 0.563039\n",
            "Train Epoch: 2 [18560/60000 (31%)]\tLoss: 0.576580\n",
            "Train Epoch: 2 [19200/60000 (32%)]\tLoss: 0.710566\n",
            "Train Epoch: 2 [19840/60000 (33%)]\tLoss: 0.732566\n",
            "Train Epoch: 2 [20480/60000 (34%)]\tLoss: 0.626789\n",
            "Train Epoch: 2 [21120/60000 (35%)]\tLoss: 0.932278\n",
            "Train Epoch: 2 [21760/60000 (36%)]\tLoss: 0.625695\n",
            "Train Epoch: 2 [22400/60000 (37%)]\tLoss: 0.599904\n",
            "Train Epoch: 2 [23040/60000 (38%)]\tLoss: 0.826335\n",
            "Train Epoch: 2 [23680/60000 (39%)]\tLoss: 0.505018\n",
            "Train Epoch: 2 [24320/60000 (41%)]\tLoss: 0.609219\n",
            "Train Epoch: 2 [24960/60000 (42%)]\tLoss: 0.569419\n",
            "Train Epoch: 2 [25600/60000 (43%)]\tLoss: 0.653172\n",
            "Train Epoch: 2 [26240/60000 (44%)]\tLoss: 0.572275\n",
            "Train Epoch: 2 [26880/60000 (45%)]\tLoss: 0.752237\n",
            "Train Epoch: 2 [27520/60000 (46%)]\tLoss: 0.599137\n",
            "Train Epoch: 2 [28160/60000 (47%)]\tLoss: 0.570993\n",
            "Train Epoch: 2 [28800/60000 (48%)]\tLoss: 0.657982\n",
            "Train Epoch: 2 [29440/60000 (49%)]\tLoss: 0.550585\n",
            "Train Epoch: 2 [30080/60000 (50%)]\tLoss: 0.722247\n",
            "Train Epoch: 2 [30720/60000 (51%)]\tLoss: 0.629137\n",
            "Train Epoch: 2 [31360/60000 (52%)]\tLoss: 0.787290\n",
            "Train Epoch: 2 [32000/60000 (53%)]\tLoss: 0.836708\n",
            "Train Epoch: 2 [32640/60000 (54%)]\tLoss: 0.407099\n",
            "Train Epoch: 2 [33280/60000 (55%)]\tLoss: 0.411672\n",
            "Train Epoch: 2 [33920/60000 (57%)]\tLoss: 0.595616\n",
            "Train Epoch: 2 [34560/60000 (58%)]\tLoss: 0.615026\n",
            "Train Epoch: 2 [35200/60000 (59%)]\tLoss: 0.826105\n",
            "Train Epoch: 2 [35840/60000 (60%)]\tLoss: 0.365763\n",
            "Train Epoch: 2 [36480/60000 (61%)]\tLoss: 0.621048\n",
            "Train Epoch: 2 [37120/60000 (62%)]\tLoss: 0.545411\n",
            "Train Epoch: 2 [37760/60000 (63%)]\tLoss: 0.496046\n",
            "Train Epoch: 2 [38400/60000 (64%)]\tLoss: 0.367922\n",
            "Train Epoch: 2 [39040/60000 (65%)]\tLoss: 0.592029\n",
            "Train Epoch: 2 [39680/60000 (66%)]\tLoss: 0.636337\n",
            "Train Epoch: 2 [40320/60000 (67%)]\tLoss: 0.688073\n",
            "Train Epoch: 2 [40960/60000 (68%)]\tLoss: 0.759256\n",
            "Train Epoch: 2 [41600/60000 (69%)]\tLoss: 0.671552\n",
            "Train Epoch: 2 [42240/60000 (70%)]\tLoss: 0.458146\n",
            "Train Epoch: 2 [42880/60000 (71%)]\tLoss: 0.457582\n",
            "Train Epoch: 2 [43520/60000 (72%)]\tLoss: 0.417984\n",
            "Train Epoch: 2 [44160/60000 (74%)]\tLoss: 0.490484\n",
            "Train Epoch: 2 [44800/60000 (75%)]\tLoss: 0.566851\n",
            "Train Epoch: 2 [45440/60000 (76%)]\tLoss: 0.567325\n",
            "Train Epoch: 2 [46080/60000 (77%)]\tLoss: 0.566218\n",
            "Train Epoch: 2 [46720/60000 (78%)]\tLoss: 0.349410\n",
            "Train Epoch: 2 [47360/60000 (79%)]\tLoss: 0.440980\n",
            "Train Epoch: 2 [48000/60000 (80%)]\tLoss: 0.666451\n",
            "Train Epoch: 2 [48640/60000 (81%)]\tLoss: 0.482145\n",
            "Train Epoch: 2 [49280/60000 (82%)]\tLoss: 0.516269\n",
            "Train Epoch: 2 [49920/60000 (83%)]\tLoss: 0.450947\n",
            "Train Epoch: 2 [50560/60000 (84%)]\tLoss: 0.434903\n",
            "Train Epoch: 2 [51200/60000 (85%)]\tLoss: 0.650009\n",
            "Train Epoch: 2 [51840/60000 (86%)]\tLoss: 0.439477\n",
            "Train Epoch: 2 [52480/60000 (87%)]\tLoss: 0.548548\n",
            "Train Epoch: 2 [53120/60000 (88%)]\tLoss: 0.651720\n",
            "Train Epoch: 2 [53760/60000 (90%)]\tLoss: 0.606656\n",
            "Train Epoch: 2 [54400/60000 (91%)]\tLoss: 0.404150\n",
            "Train Epoch: 2 [55040/60000 (92%)]\tLoss: 0.638176\n",
            "Train Epoch: 2 [55680/60000 (93%)]\tLoss: 0.652819\n",
            "Train Epoch: 2 [56320/60000 (94%)]\tLoss: 0.494789\n",
            "Train Epoch: 2 [56960/60000 (95%)]\tLoss: 0.755221\n",
            "Train Epoch: 2 [57600/60000 (96%)]\tLoss: 0.487391\n",
            "Train Epoch: 2 [58240/60000 (97%)]\tLoss: 0.524701\n",
            "Train Epoch: 2 [58880/60000 (98%)]\tLoss: 0.438598\n",
            "Train Epoch: 2 [59520/60000 (99%)]\tLoss: 0.492727\n",
            "\n",
            "Test set: Avg. loss: 0.2326, Accuracy: 9367/10000 (94%)\n",
            "\n",
            "Train Epoch: 3 [0/60000 (0%)]\tLoss: 0.438706\n",
            "Train Epoch: 3 [640/60000 (1%)]\tLoss: 0.514511\n",
            "Train Epoch: 3 [1280/60000 (2%)]\tLoss: 0.501020\n",
            "Train Epoch: 3 [1920/60000 (3%)]\tLoss: 0.439640\n",
            "Train Epoch: 3 [2560/60000 (4%)]\tLoss: 0.588235\n",
            "Train Epoch: 3 [3200/60000 (5%)]\tLoss: 0.618806\n",
            "Train Epoch: 3 [3840/60000 (6%)]\tLoss: 0.423372\n",
            "Train Epoch: 3 [4480/60000 (7%)]\tLoss: 0.322831\n",
            "Train Epoch: 3 [5120/60000 (9%)]\tLoss: 0.534113\n",
            "Train Epoch: 3 [5760/60000 (10%)]\tLoss: 0.643642\n",
            "Train Epoch: 3 [6400/60000 (11%)]\tLoss: 0.524304\n",
            "Train Epoch: 3 [7040/60000 (12%)]\tLoss: 0.445877\n",
            "Train Epoch: 3 [7680/60000 (13%)]\tLoss: 0.505547\n",
            "Train Epoch: 3 [8320/60000 (14%)]\tLoss: 0.410293\n",
            "Train Epoch: 3 [8960/60000 (15%)]\tLoss: 0.650979\n",
            "Train Epoch: 3 [9600/60000 (16%)]\tLoss: 0.699065\n",
            "Train Epoch: 3 [10240/60000 (17%)]\tLoss: 0.800020\n",
            "Train Epoch: 3 [10880/60000 (18%)]\tLoss: 0.436251\n",
            "Train Epoch: 3 [11520/60000 (19%)]\tLoss: 0.443880\n",
            "Train Epoch: 3 [12160/60000 (20%)]\tLoss: 0.531043\n",
            "Train Epoch: 3 [12800/60000 (21%)]\tLoss: 0.478746\n",
            "Train Epoch: 3 [13440/60000 (22%)]\tLoss: 0.454022\n",
            "Train Epoch: 3 [14080/60000 (23%)]\tLoss: 0.359553\n",
            "Train Epoch: 3 [14720/60000 (25%)]\tLoss: 0.431810\n",
            "Train Epoch: 3 [15360/60000 (26%)]\tLoss: 0.487817\n",
            "Train Epoch: 3 [16000/60000 (27%)]\tLoss: 0.575838\n",
            "Train Epoch: 3 [16640/60000 (28%)]\tLoss: 0.497425\n",
            "Train Epoch: 3 [17280/60000 (29%)]\tLoss: 0.576701\n",
            "Train Epoch: 3 [17920/60000 (30%)]\tLoss: 0.385874\n",
            "Train Epoch: 3 [18560/60000 (31%)]\tLoss: 0.427193\n",
            "Train Epoch: 3 [19200/60000 (32%)]\tLoss: 0.538731\n",
            "Train Epoch: 3 [19840/60000 (33%)]\tLoss: 0.364368\n",
            "Train Epoch: 3 [20480/60000 (34%)]\tLoss: 0.501034\n",
            "Train Epoch: 3 [21120/60000 (35%)]\tLoss: 0.426014\n",
            "Train Epoch: 3 [21760/60000 (36%)]\tLoss: 0.465547\n",
            "Train Epoch: 3 [22400/60000 (37%)]\tLoss: 0.458930\n",
            "Train Epoch: 3 [23040/60000 (38%)]\tLoss: 0.531507\n",
            "Train Epoch: 3 [23680/60000 (39%)]\tLoss: 0.473672\n",
            "Train Epoch: 3 [24320/60000 (41%)]\tLoss: 0.530853\n",
            "Train Epoch: 3 [24960/60000 (42%)]\tLoss: 0.304912\n",
            "Train Epoch: 3 [25600/60000 (43%)]\tLoss: 0.396853\n",
            "Train Epoch: 3 [26240/60000 (44%)]\tLoss: 0.788483\n",
            "Train Epoch: 3 [26880/60000 (45%)]\tLoss: 0.315021\n",
            "Train Epoch: 3 [27520/60000 (46%)]\tLoss: 0.487389\n",
            "Train Epoch: 3 [28160/60000 (47%)]\tLoss: 0.417968\n",
            "Train Epoch: 3 [28800/60000 (48%)]\tLoss: 0.296384\n",
            "Train Epoch: 3 [29440/60000 (49%)]\tLoss: 0.536973\n",
            "Train Epoch: 3 [30080/60000 (50%)]\tLoss: 0.419753\n",
            "Train Epoch: 3 [30720/60000 (51%)]\tLoss: 0.461718\n",
            "Train Epoch: 3 [31360/60000 (52%)]\tLoss: 0.514283\n",
            "Train Epoch: 3 [32000/60000 (53%)]\tLoss: 0.450915\n",
            "Train Epoch: 3 [32640/60000 (54%)]\tLoss: 0.396007\n",
            "Train Epoch: 3 [33280/60000 (55%)]\tLoss: 0.393504\n",
            "Train Epoch: 3 [33920/60000 (57%)]\tLoss: 0.290004\n",
            "Train Epoch: 3 [34560/60000 (58%)]\tLoss: 0.381941\n",
            "Train Epoch: 3 [35200/60000 (59%)]\tLoss: 0.310310\n",
            "Train Epoch: 3 [35840/60000 (60%)]\tLoss: 0.463826\n",
            "Train Epoch: 3 [36480/60000 (61%)]\tLoss: 0.428112\n",
            "Train Epoch: 3 [37120/60000 (62%)]\tLoss: 0.566662\n",
            "Train Epoch: 3 [37760/60000 (63%)]\tLoss: 0.421477\n",
            "Train Epoch: 3 [38400/60000 (64%)]\tLoss: 0.310624\n",
            "Train Epoch: 3 [39040/60000 (65%)]\tLoss: 0.488090\n",
            "Train Epoch: 3 [39680/60000 (66%)]\tLoss: 0.289749\n",
            "Train Epoch: 3 [40320/60000 (67%)]\tLoss: 0.467747\n",
            "Train Epoch: 3 [40960/60000 (68%)]\tLoss: 0.523681\n",
            "Train Epoch: 3 [41600/60000 (69%)]\tLoss: 0.442890\n",
            "Train Epoch: 3 [42240/60000 (70%)]\tLoss: 0.308618\n",
            "Train Epoch: 3 [42880/60000 (71%)]\tLoss: 0.381851\n",
            "Train Epoch: 3 [43520/60000 (72%)]\tLoss: 0.307942\n",
            "Train Epoch: 3 [44160/60000 (74%)]\tLoss: 0.418477\n",
            "Train Epoch: 3 [44800/60000 (75%)]\tLoss: 0.415263\n",
            "Train Epoch: 3 [45440/60000 (76%)]\tLoss: 0.424216\n",
            "Train Epoch: 3 [46080/60000 (77%)]\tLoss: 0.396487\n",
            "Train Epoch: 3 [46720/60000 (78%)]\tLoss: 0.553055\n",
            "Train Epoch: 3 [47360/60000 (79%)]\tLoss: 0.487830\n",
            "Train Epoch: 3 [48000/60000 (80%)]\tLoss: 0.362632\n",
            "Train Epoch: 3 [48640/60000 (81%)]\tLoss: 0.350010\n",
            "Train Epoch: 3 [49280/60000 (82%)]\tLoss: 0.346346\n",
            "Train Epoch: 3 [49920/60000 (83%)]\tLoss: 0.505654\n",
            "Train Epoch: 3 [50560/60000 (84%)]\tLoss: 0.448093\n",
            "Train Epoch: 3 [51200/60000 (85%)]\tLoss: 0.393822\n",
            "Train Epoch: 3 [51840/60000 (86%)]\tLoss: 0.339518\n",
            "Train Epoch: 3 [52480/60000 (87%)]\tLoss: 0.422348\n",
            "Train Epoch: 3 [53120/60000 (88%)]\tLoss: 0.367516\n",
            "Train Epoch: 3 [53760/60000 (90%)]\tLoss: 0.528670\n",
            "Train Epoch: 3 [54400/60000 (91%)]\tLoss: 0.491764\n",
            "Train Epoch: 3 [55040/60000 (92%)]\tLoss: 0.478901\n",
            "Train Epoch: 3 [55680/60000 (93%)]\tLoss: 0.464076\n",
            "Train Epoch: 3 [56320/60000 (94%)]\tLoss: 0.576335\n",
            "Train Epoch: 3 [56960/60000 (95%)]\tLoss: 0.456855\n",
            "Train Epoch: 3 [57600/60000 (96%)]\tLoss: 0.421238\n",
            "Train Epoch: 3 [58240/60000 (97%)]\tLoss: 0.260390\n",
            "Train Epoch: 3 [58880/60000 (98%)]\tLoss: 0.468929\n",
            "Train Epoch: 3 [59520/60000 (99%)]\tLoss: 0.464396\n",
            "\n",
            "Test set: Avg. loss: 0.1751, Accuracy: 9489/10000 (95%)\n",
            "\n"
          ],
          "name": "stdout"
        }
      ]
    },
    {
      "cell_type": "markdown",
      "metadata": {
        "id": "TLtdQ7GOyByT"
      },
      "source": [
        "Evaluating the model's performance"
      ]
    },
    {
      "cell_type": "code",
      "metadata": {
        "id": "bSLtll9MlC1S",
        "outputId": "9a4885ef-f982-4c65-e5eb-132bddac9129",
        "colab": {
          "base_uri": "https://localhost:8080/",
          "height": 296
        }
      },
      "source": [
        "fig = plt.figure()\n",
        "plt.plot(train_counter, train_losses, color='blue')\n",
        "plt.scatter(test_counter, test_losses, color='red')\n",
        "plt.legend(['Train Loss', 'Test Loss'], loc='upper right')\n",
        "plt.xlabel('number of training examples seen')\n",
        "plt.ylabel('negative log likelihood loss')\n",
        "#fig"
      ],
      "execution_count": null,
      "outputs": [
        {
          "output_type": "execute_result",
          "data": {
            "text/plain": [
              "Text(0, 0.5, 'negative log likelihood loss')"
            ]
          },
          "metadata": {
            "tags": []
          },
          "execution_count": 14
        },
        {
          "output_type": "display_data",
          "data": {
            "image/png": "[encoded data removed]",
            "text/plain": [
              "<Figure size 432x288 with 1 Axes>"
            ]
          },
          "metadata": {
            "tags": [],
            "needs_background": "light"
          }
        }
      ]
    },
    {
      "cell_type": "code",
      "metadata": {
        "id": "C7y2nZD7lvIm",
        "outputId": "56906adc-e0ff-4bb4-8b9c-e12aaa3845d1",
        "colab": {
          "base_uri": "https://localhost:8080/"
        }
      },
      "source": [
        "with torch.no_grad():\n",
        "  output = network(example_data)\n"
      ],
      "execution_count": null,
      "outputs": [
        {
          "output_type": "stream",
          "text": [
            "/usr/local/lib/python3.6/dist-packages/ipykernel_launcher.py:17: UserWarning: Implicit dimension choice for log_softmax has been deprecated. Change the call to include dim=X as an argument.\n"
          ],
          "name": "stderr"
        }
      ]
    },
    {
      "cell_type": "code",
      "metadata": {
        "id": "vLzgxDUzncO2",
        "outputId": "8f882f4e-8633-4118-fcc0-c9416f78104b",
        "colab": {
          "base_uri": "https://localhost:8080/",
          "height": 551
        }
      },
      "source": [
        "fig = plt.figure()\n",
        "for i in range(6):\n",
        "  plt.subplot(2,3,i+1)\n",
        "  plt.tight_layout()\n",
        "  plt.imshow(example_data[i][0], cmap='gray', interpolation='none')\n",
        "  plt.title(\"Prediction: {}\".format(\n",
        "    output.data.max(1, keepdim=True)[1][i].item()))\n",
        "  plt.xticks([])\n",
        "  plt.yticks([])\n",
        "fig"
      ],
      "execution_count": null,
      "outputs": [
        {
          "output_type": "execute_result",
          "data": {
            "image/png": "[encoded data removed]",
            "text/plain": [
              "<Figure size 432x288 with 6 Axes>"
            ]
          },
          "metadata": {
            "tags": []
          },
          "execution_count": 16
        },
        {
          "output_type": "display_data",
          "data": {
            "image/png": "[encoded data removed]",
            "text/plain": [
              "<Figure size 432x288 with 6 Axes>"
            ]
          },
          "metadata": {
            "tags": []
          }
        }
      ]
    }
  ]
}