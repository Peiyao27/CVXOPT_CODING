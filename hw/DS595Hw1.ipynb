{
  "nbformat": 4,
  "nbformat_minor": 0,
  "metadata": {
    "colab": {
      "name": "DS595_HW1.ipynb",
      "provenance": [],
      "collapsed_sections": []
    },
    "kernelspec": {
      "name": "python3",
      "display_name": "Python 3"
    }
  },
  "cells": [
    {
      "cell_type": "markdown",
      "metadata": {
        "id": "RzbJ0MmflTuV"
      },
      "source": [
        "2.b) Use a computer to find the optimal solution to this quadratic program."
      ]
    },
    {
      "cell_type": "code",
      "metadata": {
        "id": "Bph_Iik-wsxd",
        "colab": {
          "base_uri": "https://localhost:8080/",
          "height": 0
        },
        "outputId": "be49951a-8cf0-4cd2-aaed-053c9c5d7273"
      },
      "source": [
        "# Import packages.\n",
        "import cvxpy as cp\n",
        "import numpy as np\n",
        "\n",
        "# Input data.\n",
        "Q = [[1,2],[3,4]]\n",
        "c = [6,7]\n",
        "a = [[2],[1]]\n",
        "b = 5\n",
        "\n",
        "# Define and solve the CVXPY problem.\n",
        "x = cp.Variable(2)\n",
        "prob = cp.Problem(cp.Minimize(cp.norm(Q @ x - c, p=2)),\n",
        "                  [a @ x == b])\n",
        "prob.solve()\n",
        "\n",
        "# Print result.\n",
        "print(\"\\nThe optimal value is\", prob.value)\n",
        "print(\"The optimal x is\")\n",
        "print(x.value)\n",
        "print(\"The min norm is \", cp.norm(Q @ x - c, p=2).value)"
      ],
      "execution_count": 80,
      "outputs": [
        {
          "output_type": "stream",
          "name": "stdout",
          "text": [
            "\n",
            "The optimal value is 1.4084056789720465\n",
            "The optimal x is\n",
            "[2.01639344 0.96721311]\n",
            "The min norm is  1.4084056792618551\n"
          ]
        }
      ]
    },
    {
      "cell_type": "markdown",
      "metadata": {
        "id": "aA8MWN0rw8xe"
      },
      "source": [
        "3.a) design an algorithm which, given a point $x \\in R^n$, determines whether the point $x$ is in $\\Omega=\\{AX\\le b\\}$"
      ]
    },
    {
      "cell_type": "code",
      "metadata": {
        "colab": {
          "base_uri": "https://localhost:8080/",
          "height": 0
        },
        "id": "BwTyWO7isHy7",
        "outputId": "da2a5b1f-6183-4862-c184-669df19a2097"
      },
      "source": [
        "# Import packages.\n",
        "import cvxpy as cp\n",
        "import numpy as np\n",
        "\n",
        "# Generate data.\n",
        "m = 5\n",
        "n = 6\n",
        "np.random.seed(1) # different result for different seed number\n",
        "A = np.random.randn(m, n)\n",
        "b = np.random.randn(m)\n",
        "\n",
        "# Define the membership oracle problem\n",
        "x = np.array([1,2,3,4,5,6]) # may change\n",
        "if sum(A @ x <=b)==m:\n",
        " print(x, \" is in the set \\u03A9\")\n",
        "else:\n",
        "  print(x, \"is not in the set \\u03A9\")\n",
        "\n"
      ],
      "execution_count": 81,
      "outputs": [
        {
          "output_type": "stream",
          "name": "stdout",
          "text": [
            "[1 2 3 4 5 6] is not in the set Ω\n"
          ]
        }
      ]
    },
    {
      "cell_type": "markdown",
      "metadata": {
        "id": "D-68iTGb5_vI"
      },
      "source": [
        "3.b) A projection oracle\n",
        " \n"
      ]
    },
    {
      "cell_type": "code",
      "metadata": {
        "colab": {
          "base_uri": "https://localhost:8080/",
          "height": 0
        },
        "id": "dqRpzoHlwF3r",
        "outputId": "5401a715-0042-42a2-a265-b06fc18b7cd7"
      },
      "source": [
        "### membership oracle\n",
        "\n",
        "# Import packages.\n",
        "import cvxpy as cp\n",
        "import numpy as np\n",
        "\n",
        "# Generate data.\n",
        "m = 5\n",
        "n = 6\n",
        "np.random.seed(1) # different result for different seed number\n",
        "A = np.random.randn(m, n)\n",
        "b = np.random.randn(m)\n",
        "\n",
        "# Define the projection oracle problem\n",
        "x = np.array([1,2,3,4,5,6]) # may change\n",
        "z = cp.Variable(n)\n",
        "prob = cp.Problem(cp.Minimize(cp.norm(z - x, p=2)),\n",
        "                  [A @ z <=b])\n",
        "prob.solve()\n",
        "\n",
        "# Find project point y\n",
        "y = z.value\n",
        "\n",
        "# Print result.\n",
        "print(\"\\nThe optimal value is\", prob.value)\n",
        "print(\"The project point y is\")\n",
        "print(z.value)\n"
      ],
      "execution_count": 82,
      "outputs": [
        {
          "output_type": "stream",
          "name": "stdout",
          "text": [
            "\n",
            "The optimal value is 6.3150937548917065\n",
            "The project point y is\n",
            "[ 0.29759153  0.88850126  6.14877766  2.46470592 -0.01410879  5.14070568]\n"
          ]
        }
      ]
    },
    {
      "cell_type": "markdown",
      "metadata": {
        "id": "LzoH1eFQOfBp"
      },
      "source": [
        "3.c) Implement above algorithm in specific example."
      ]
    },
    {
      "cell_type": "code",
      "metadata": {
        "colab": {
          "base_uri": "https://localhost:8080/",
          "height": 0
        },
        "id": "Suwg0RwOLoQk",
        "outputId": "c7b08a04-9287-4883-dee8-42f81df0e58e"
      },
      "source": [
        "### membership oracle\n",
        "\n",
        "# Import packages.\n",
        "import cvxpy as cp\n",
        "import numpy as np\n",
        "\n",
        "# Generate data.\n",
        "A = [[4,1,1,0],[2,3,0,0]]\n",
        "b = [5,4,0,0]\n",
        "\n",
        "# Define the projection oracle problem\n",
        "x = np.array([1,2]) # may change\n",
        "z = cp.Variable(2)\n",
        "prob = cp.Problem(cp.Minimize(cp.norm(z - x, p=2)),\n",
        "                  [A @ z <=b])\n",
        "prob.solve()\n",
        "\n",
        "# Find project point y\n",
        "y = z.value\n",
        "\n",
        "# Print result.\n",
        "print(\"\\nThe optimal value is\", prob.value)\n",
        "print(\"The project point y is\")\n",
        "print(z.value)"
      ],
      "execution_count": 79,
      "outputs": [
        {
          "output_type": "stream",
          "name": "stdout",
          "text": [
            "\n",
            "The optimal value is 1.2018504250508673\n",
            "The project point y is\n",
            "[1.53733827e-11 1.33333333e+00]\n"
          ]
        }
      ]
    },
    {
      "cell_type": "code",
      "metadata": {
        "colab": {
          "base_uri": "https://localhost:8080/",
          "height": 0
        },
        "id": "XAPomoT0OVMB",
        "outputId": "fd8809d4-7fdd-4b45-a638-41e945dc978c"
      },
      "source": [
        "### membership oracle\n",
        "\n",
        "# Import packages.\n",
        "import cvxpy as cp\n",
        "import numpy as np\n",
        "\n",
        "# Generate data.\n",
        "A = np.array([[4,2],[1,3],[1,0],[0,1]])\n",
        "b = np.array([5,4,0,0])\n",
        "\n",
        "# Define the projection oracle problem\n",
        "x = np.array([1,2]) # may change\n",
        "z = cp.Variable(2)\n",
        "prob = cp.Problem(cp.Minimize(cp.norm(z - x, p=2)),\n",
        "                  [A @ z <=b])\n",
        "prob.solve()\n",
        "\n",
        "# Find project point y\n",
        "y = z.value\n",
        "\n",
        "# Print result.\n",
        "print(\"\\nThe optimal value is\", prob.value)\n",
        "print(\"The project point y is\")\n",
        "print(z.value)"
      ],
      "execution_count": 84,
      "outputs": [
        {
          "output_type": "stream",
          "name": "stdout",
          "text": [
            "\n",
            "The optimal value is 2.236067977004352\n",
            "The project point y is\n",
            "[3.32904752e-11 1.63899869e-11]\n"
          ]
        }
      ]
    },
    {
      "cell_type": "markdown",
      "metadata": {
        "id": "K9GVmLU6CNLa"
      },
      "source": [
        "5.b) Find the optimal solution to the linear program"
      ]
    },
    {
      "cell_type": "code",
      "metadata": {
        "colab": {
          "base_uri": "https://localhost:8080/",
          "height": 0
        },
        "id": "5P8-pLHK7Rwu",
        "outputId": "d1dbb5e0-d318-405e-c641-97b60e24380d"
      },
      "source": [
        "# Import packages.\n",
        "import cvxpy as cp\n",
        "import numpy as np\n",
        "\n",
        "# input data\n",
        "R = [[300,160,360],[220,130,280],[100,80,140]]\n",
        "B = [[4,8,3],[8,13,10],[22,20,18]]\n",
        "a = [1,1,1]\n",
        "b = [[1],[1],[1]]\n",
        "c = [[1],[0],[1]]\n",
        "d = [[0],[1],[1]]\n",
        "n = 3\n",
        "\n",
        "# Define and solve rhe CVXPY problem.\n",
        "X = cp.Variable((n,n))\n",
        "middle = R*X\n",
        "prob = cp.Problem(cp.Maximize([sum(x) for x in zip(*middle)][0]+[sum(x) for x in zip(*middle)][1]+[sum(x) for x in zip(*middle)][2]),\n",
        "                  [[sum(x) for x in zip(*X)][0]+[sum(x) for x in zip(*X)][2]<= 30,\n",
        "                   [sum(x) for x in zip(*X)][1]+[sum(x) for x in zip(*X)][2]<= 30,\n",
        "                   X <= B,\n",
        "                   X >= 0])\n",
        "prob.solve()\n",
        "\n",
        "# Print result\n",
        "print(\"\\nThe optimal value is\", prob.value)\n",
        "print(\"A solution X is\")\n",
        "print(X.value)"
      ],
      "execution_count": 83,
      "outputs": [
        {
          "output_type": "stream",
          "name": "stdout",
          "text": [
            "\n",
            "The optimal value is 32549.99999738011\n",
            "A solution X is\n",
            "[[ 4.00000000e+00  7.99999999e+00  1.50000000e+01]\n",
            " [ 8.00000000e+00  7.00000000e+00  1.74932855e-09]\n",
            " [ 2.99999999e+00  6.15128025e-09 -1.82024916e-09]]\n"
          ]
        }
      ]
    }
  ]
}